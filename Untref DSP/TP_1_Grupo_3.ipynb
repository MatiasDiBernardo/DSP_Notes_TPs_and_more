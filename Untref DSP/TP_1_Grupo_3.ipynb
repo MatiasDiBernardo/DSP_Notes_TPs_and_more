{
 "cells": [
  {
   "cell_type": "markdown",
   "id": "706d8449",
   "metadata": {},
   "source": [
    "# Trabajo Práctico 1\n",
    "# Grupo 3:\n",
    "## Matías Vereertbrugghen, Matías Di Bernardo, Pedro Albina\n"
   ]
  },
  {
   "cell_type": "markdown",
   "id": "636c5382",
   "metadata": {},
   "source": [
    "# Introducción"
   ]
  },
  {
   "cell_type": "code",
   "execution_count": 1,
   "id": "1f3fafe9",
   "metadata": {},
   "outputs": [],
   "source": [
    "import numpy as np\n",
    "from generador2021 import generador as gen\n",
    "import manipulacion as man\n",
    "from matplotlib import pyplot as plt "
   ]
  },
  {
   "cell_type": "markdown",
   "id": "14c84de9",
   "metadata": {},
   "source": [
    "# Parte 1"
   ]
  },
  {
   "cell_type": "raw",
   "id": "d798d501",
   "metadata": {},
   "source": [
    "Comenzamos definiendo la frecuencia de muestreo fs y definimos el vector de tiempo t"
   ]
  },
  {
   "cell_type": "code",
   "execution_count": 2,
   "id": "9ee0efc5",
   "metadata": {},
   "outputs": [],
   "source": [
    "fs = 100\n",
    "T= 1/fs\n",
    "t = np.arange(-5, 5+T ,T)"
   ]
  },
  {
   "cell_type": "raw",
   "id": "e5ba8bed",
   "metadata": {},
   "source": [
    "Generamos el pulso p"
   ]
  },
  {
   "cell_type": "code",
   "execution_count": 3,
   "id": "ccd29332",
   "metadata": {},
   "outputs": [
    {
     "data": {
      "image/png": "[encoded data removed]",
      "text/plain": [
       "<Figure size 432x288 with 1 Axes>"
      ]
     },
     "metadata": {
      "needs_background": "light"
     },
     "output_type": "display_data"
    }
   ],
   "source": [
    "p = gen(t = t, fs = fs, amplitud = 1, tipo = 5, ancho = 1)\n",
    "p = man.desplaza(p, fs, 0.5)\n",
    "\n",
    "plt.figure()\n",
    "plt.plot(t, p, \"y\")\n",
    "plt.show()"
   ]
  },
  {
   "cell_type": "code",
   "execution_count": 4,
   "id": "95e571b9",
   "metadata": {},
   "outputs": [],
   "source": [
    "p1 = man.desplaza(p, fs, 1)"
   ]
  },
  {
   "cell_type": "code",
   "execution_count": 5,
   "id": "7893b93f",
   "metadata": {},
   "outputs": [
    {
     "data": {
      "image/png": "[encoded data removed]",
      "text/plain": [
       "<Figure size 432x288 with 1 Axes>"
      ]
     },
     "metadata": {
      "needs_background": "light"
     },
     "output_type": "display_data"
    }
   ],
   "source": [
    "plt.figure()\n",
    "plt.plot(t,p,\"y\");plt.plot(t,p1,\"r\")#juntas\n",
    "plt.title(\"Pulsos rectangulares Juntos\")\n",
    "plt.show()"
   ]
  },
  {
   "cell_type": "code",
   "execution_count": 6,
   "id": "c6e965c5",
   "metadata": {},
   "outputs": [
    {
     "data": {
      "image/png": "[encoded data removed]",
      "text/plain": [
       "<Figure size 432x288 with 2 Axes>"
      ]
     },
     "metadata": {
      "needs_background": "light"
     },
     "output_type": "display_data"
    }
   ],
   "source": [
    "plt.figure()\n",
    "\n",
    "plt.subplot(2,1,1)\n",
    "plt.plot(t,p,\"y\")\n",
    "plt.title(\"p1\")\n",
    "\n",
    "plt.subplot(2,1,2)\n",
    "plt.plot(t,p1,\"r\")\n",
    "plt.title(\"p2\")\n",
    "\n",
    "plt.subplots_adjust(hspace = 0.4)\n",
    "\n",
    "plt.show()"
   ]
  },
  {
   "cell_type": "markdown",
   "id": "93395604",
   "metadata": {},
   "source": [
    "# Parte 2"
   ]
  },
  {
   "cell_type": "code",
   "execution_count": 7,
   "id": "b16c39ce",
   "metadata": {},
   "outputs": [],
   "source": [
    "fs=100    \n",
    "T=1/fs\n",
    "t = np.arange(-5,5+T,T)\n"
   ]
  },
  {
   "cell_type": "markdown",
   "id": "1776dba1",
   "metadata": {},
   "source": [
    "Modelamos $y(t) = u(t-3)x(t)$:"
   ]
  },
  {
   "cell_type": "code",
   "execution_count": 8,
   "id": "def191cf",
   "metadata": {},
   "outputs": [],
   "source": [
    "def y(t,fs,x):\n",
    "    u = gen(t,fs, tipo = 8)\n",
    "    u = man.desplaza(u, fs, 3)\n",
    "    return u*x"
   ]
  },
  {
   "cell_type": "markdown",
   "id": "45c6282d",
   "metadata": {},
   "source": [
    "Definimos $x(t) = \\Pi(t)$ y la introducimos en $y(t)$:"
   ]
  },
  {
   "cell_type": "code",
   "execution_count": 9,
   "id": "4331dbf9",
   "metadata": {},
   "outputs": [
    {
     "data": {
      "image/png": "[encoded data removed]",
      "text/plain": [
       "<Figure size 432x288 with 1 Axes>"
      ]
     },
     "metadata": {
      "needs_background": "light"
     },
     "output_type": "display_data"
    }
   ],
   "source": [
    "x = gen(t, fs, amplitud = 1, tipo = 5, ancho = 1)\n",
    "\n",
    "\n",
    "#Acá metí p porque me parece que en realidad pide usar el pulso rectangular del punto anterior\n",
    "plt.figure()\n",
    "plt.plot(t, y(t, fs, p))\n",
    "plt.show()"
   ]
  },
  {
   "cell_type": "markdown",
   "id": "652a055b",
   "metadata": {},
   "source": [
    "Como $u(t-3)$ deja de ser nula en $t=3$ pero para ese momento el pulso rectangular ya terminó, el resultado es nulo."
   ]
  },
  {
   "cell_type": "markdown",
   "id": "2f611058",
   "metadata": {},
   "source": [
    "Ahora definiremos las funciones para verificar cada propiedad. Comenzamos por la superposición."
   ]
  },
  {
   "cell_type": "code",
   "execution_count": 13,
   "id": "c357a9aa",
   "metadata": {},
   "outputs": [
    {
     "name": "stdout",
     "output_type": "stream",
     "text": [
      "El sistema cumple la superposición\n"
     ]
    }
   ],
   "source": [
    "\n",
    "#%%\n",
    "\n",
    "#VERIFIQUE \n",
    "#-Superposicion\n",
    "#-Invarianza\n",
    "#-Causalidad\n",
    "        \n",
    "def v_sup(t, fs, sis, x1, x2, a = 1, b = 1):    \n",
    "    a = float(a)\n",
    "    b = float(b)\n",
    "    #plt.figure()\n",
    "    #plt.plot(t, sis(a * x1 + b * x2))\n",
    "    \n",
    "    if (sis(t = t, fs = fs, x = a * x1 + b * x2) == a * sis(t = t, fs = fs, x = x1) +  b* sis(t = t, fs = fs, x =x2)).all():\n",
    "        return print('El sistema cumple la superposición')\n",
    "    else:\n",
    "        #plt.figure()\n",
    "        #plt.plot(t, a * sis(x1) + b* sis(x2))\n",
    "        #dif = sis( a * x1 + b * x2) - ( a * sis(x1) + b* sis(x2))\n",
    "        #plt.figure()\n",
    "        #plt.plot(t, dif)\n",
    "        return print('El sistema no cumple la superposición')\n",
    "\n",
    "v_sup(t = t, fs = fs, sis = y, x1 = x1, x2 = x2)"
   ]
  },
  {
   "cell_type": "code",
   "execution_count": 21,
   "id": "7b3afe15",
   "metadata": {},
   "outputs": [
    {
     "data": {
      "image/png": "[encoded data removed]",
      "text/plain": [
       "<Figure size 432x288 with 2 Axes>"
      ]
     },
     "metadata": {
      "needs_background": "light"
     },
     "output_type": "display_data"
    },
    {
     "data": {
      "image/png": "[encoded data removed]",
      "text/plain": [
       "<Figure size 432x288 with 2 Axes>"
      ]
     },
     "metadata": {
      "needs_background": "light"
     },
     "output_type": "display_data"
    }
   ],
   "source": [
    "        \n",
    "        #%%\n",
    "#Verificar invariable en el tiempo       \n",
    "def v_inv(t, fs, sis, x, d = 1, **kwargs):\n",
    "    y = sis(t = t, fs = fs, x = x)\n",
    "    yd = man.desplaza(y, fs ,d)\n",
    "    xd = man.desplaza(x, fs, d)\n",
    "    yxd = sis(t = t, fs = fs, x = xd)\n",
    "    #Muestra las señales inicial vs la retrasada\n",
    "    fig, (ax1, ax2) = plt.subplots(1, 2)\n",
    "    fig.suptitle(f'x(t) vs x(t-{d})')\n",
    "    ax1.plot(t, x, **kwargs)\n",
    "    ax2.plot(t, xd, **kwargs)\n",
    "    #Muestra la y(t-1) vs y(t) con x(t-1)\n",
    "    fig, (ax1, ax2) = plt.subplots(1, 2)\n",
    "    fig.suptitle('x(t) vs x(t-1)')\n",
    "    ax1.plot(t, yd, **kwargs)\n",
    "    ax2.plot(t, yxd, **kwargs)\n",
    "    plt.show()\n",
    "    \n",
    "    #if (yd == yxd).all:\n",
    "     #   print(\"El sistema es invariable en el tiempo\")\n",
    "    #else:\n",
    "     #   print(\"El sistema no es invariable en el tiempo\")\n",
    "v_inv(t, fs, y, x1)"
   ]
  },
  {
   "cell_type": "code",
   "execution_count": null,
   "id": "dbd3b72a",
   "metadata": {},
   "outputs": [],
   "source": [
    "def v_caus(x,fs,t):\n",
    "    #primero chequeamos si el sistema develve algo para una señal de entrada nula\n",
    "    if (s(t,fs,0) == 0).all:\n"
   ]
  },
  {
   "cell_type": "code",
   "execution_count": 18,
   "id": "3d6a0b60",
   "metadata": {},
   "outputs": [],
   "source": [
    "x1 = np.cos(np.pi*t + np.pi/3)\n",
    "x2 = t**2\n",
    "x3 = gen(t, fs, 1, tipo = 2)\n",
    "#x3 ="
   ]
  },
  {
   "cell_type": "code",
   "execution_count": null,
   "id": "1dc32d44",
   "metadata": {},
   "outputs": [],
   "source": []
  }
 ],
 "metadata": {
  "kernelspec": {
   "display_name": "Python 3 (ipykernel)",
   "language": "python",
   "name": "python3"
  },
  "language_info": {
   "codemirror_mode": {
    "name": "ipython",
    "version": 3
   },
   "file_extension": ".py",
   "mimetype": "text/x-python",
   "name": "python",
   "nbconvert_exporter": "python",
   "pygments_lexer": "ipython3",
   "version": "3.8.3"
  }
 },
 "nbformat": 4,
 "nbformat_minor": 5
}
